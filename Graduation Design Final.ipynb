{
 "cells": [
  {
   "cell_type": "markdown",
   "metadata": {},
   "source": [
    "# Import Dependencies"
   ]
  },
  {
   "cell_type": "code",
   "execution_count": 1,
   "metadata": {},
   "outputs": [],
   "source": [
    "import numpy as np\n",
    "import pandas as pd\n",
    "from math import *\n",
    "from scipy.integrate import quad\n",
    "from scipy.optimize import root"
   ]
  },
  {
   "cell_type": "markdown",
   "metadata": {},
   "source": [
    "# Data Utilizations"
   ]
  },
  {
   "cell_type": "code",
   "execution_count": 2,
   "metadata": {},
   "outputs": [],
   "source": [
    "file1 = 'ft_fn_fb.xlsx'\n",
    "file2 = 'K.xlsx'"
   ]
  },
  {
   "cell_type": "code",
   "execution_count": 3,
   "metadata": {},
   "outputs": [],
   "source": [
    "def write_excel(df, file_name):\n",
    "    file_path = pd.ExcelWriter(file_name)\n",
    "    df.fillna(' ', inplace=True)\n",
    "    df.to_excel(file_path, encoding='utf-8', index=False)\n",
    "    file_path.save()\n",
    "    print(\"The excel is successfully written!\")"
   ]
  },
  {
   "cell_type": "markdown",
   "metadata": {},
   "source": [
    "# Fourth-order Runge-Kutta Method\n",
    "## Set Controlled Variables"
   ]
  },
  {
   "cell_type": "code",
   "execution_count": 4,
   "metadata": {},
   "outputs": [
    {
     "name": "stdout",
     "output_type": "stream",
     "text": [
      "Theta :[0.17453292519943295, 0.3490658503988659, 0.5235987755982988]\n",
      "T     :[283, 293, 303]\n"
     ]
    }
   ],
   "source": [
    "Theta = [radians(angle) for angle in range(10,91,10)]\n",
    "T = [t for t in range(283,474,10)]\n",
    "print(f'Theta :{Theta[:3]}\\nT     :{T[:3]}')"
   ]
  },
  {
   "cell_type": "markdown",
   "metadata": {},
   "source": [
    "## Calculate Constants"
   ]
  },
  {
   "cell_type": "code",
   "execution_count": 5,
   "metadata": {},
   "outputs": [],
   "source": [
    "EPSILON = 0.000001\n",
    "\n",
    "def calculate_R(theta):\n",
    "    R = 1\n",
    "    return R\n",
    "\n",
    "def calculate_kappa(theta, R):\n",
    "     return sin(theta)**2/R\n",
    "\n",
    "def calculate_tau(theta, R):\n",
    "     return sin(theta)*cos(theta)/R"
   ]
  },
  {
   "cell_type": "markdown",
   "metadata": {},
   "source": [
    "## Define RK Method"
   ]
  },
  {
   "cell_type": "code",
   "execution_count": 6,
   "metadata": {},
   "outputs": [],
   "source": [
    "def RK4(F, s, y, h):\n",
    "    k1 = h * np.array(F(s, y))\n",
    "    k2 = h * np.array(F(s + h/2, y + k1/2))\n",
    "    k3 = h * np.array(F(s + h/2, y + k2/2))\n",
    "    k4 = h * np.array(F(s + h, y + k3))\n",
    "    return y + (k1 + 2*k2 + 2*k3 + k4)/6"
   ]
  },
  {
   "cell_type": "markdown",
   "metadata": {},
   "source": [
    "## Define & Solve ODE"
   ]
  },
  {
   "cell_type": "markdown",
   "metadata": {},
   "source": [
    "### Definition"
   ]
  },
  {
   "cell_type": "code",
   "execution_count": 7,
   "metadata": {},
   "outputs": [],
   "source": [
    "# Define Solve\n",
    "def solve(F, F_T0, F_N0, F_B0, s_start, s_end, h):\n",
    "    s = s_start\n",
    "    F_T = F_T0\n",
    "    F_N = F_N0\n",
    "    F_B = F_B0\n",
    "    while s < s_end:\n",
    "        y = [F_T, F_N, F_B]\n",
    "        y = RK4(F, s, y, h)\n",
    "        F_T, F_N, F_B = y\n",
    "        s += h\n",
    "    return F_T, F_N, F_B"
   ]
  },
  {
   "cell_type": "markdown",
   "metadata": {},
   "source": [
    "### Solve"
   ]
  },
  {
   "cell_type": "code",
   "execution_count": 8,
   "metadata": {},
   "outputs": [],
   "source": [
    "F_T0 = 0\n",
    "F_N0 = 0\n",
    "F_B0 = 0\n",
    "s_start = 0\n",
    "s_end =  1\n",
    "h = 0.01\n",
    "\n",
    "res_list = []\n",
    "for t in T:\n",
    "    for theta in Theta:\n",
    "        \n",
    "        # Define ODE\n",
    "        def F(s, y): \n",
    "            F_T, F_N, F_B = y\n",
    "            global t\n",
    "            global theta\n",
    "            t = t #t and theta are the two controlled vars.\n",
    "            theta = theta\n",
    "            R = calculate_R(theta)\n",
    "            tau = 3e7 #Tau max is set as an constant value of 30MPa.\n",
    "            r = 9e-11\n",
    "            a = 7.5e-4\n",
    "            miu = 0.28\n",
    "            E = 9.7e11\n",
    "            kappa = calculate_kappa(theta, R)\n",
    "            tau = calculate_tau(theta, R)\n",
    "            f_T = 2*pi*r*tau\n",
    "            f_N = 2*pi*E*r*a*t/(2-miu)\n",
    "            f_B = -2*pi*E*r*a*t/(2-miu)\n",
    "            dF_Tds = F_N * kappa - f_T\n",
    "            dF_Nds = F_B * tau - F_T * kappa - f_N\n",
    "            dF_Bds = -F_N * tau - f_B\n",
    "            return [dF_Tds, dF_Nds, dF_Bds]\n",
    "        \n",
    "        tmp_dict = {'T':t, 'theta':theta}\n",
    "        res = solve(F, F_T0, F_N0, F_B0, s_start, s_end, h)\n",
    "        tmp_dict['F_T'] = res[0]\n",
    "        tmp_dict['F_N'] = res[1]\n",
    "        tmp_dict['F_B'] = res[2]\n",
    "        res_list.append(tmp_dict)"
   ]
  },
  {
   "cell_type": "code",
   "execution_count": 9,
   "metadata": {},
   "outputs": [
    {
     "data": {
      "text/html": [
       "<div>\n",
       "<style scoped>\n",
       "    .dataframe tbody tr th:only-of-type {\n",
       "        vertical-align: middle;\n",
       "    }\n",
       "\n",
       "    .dataframe tbody tr th {\n",
       "        vertical-align: top;\n",
       "    }\n",
       "\n",
       "    .dataframe thead th {\n",
       "        text-align: right;\n",
       "    }\n",
       "</style>\n",
       "<table border=\"1\" class=\"dataframe\">\n",
       "  <thead>\n",
       "    <tr style=\"text-align: right;\">\n",
       "      <th></th>\n",
       "      <th>T</th>\n",
       "      <th>theta</th>\n",
       "      <th>F_T</th>\n",
       "      <th>F_N</th>\n",
       "      <th>F_B</th>\n",
       "    </tr>\n",
       "  </thead>\n",
       "  <tbody>\n",
       "    <tr>\n",
       "      <th>0</th>\n",
       "      <td>283</td>\n",
       "      <td>0.174533</td>\n",
       "      <td>-0.959878</td>\n",
       "      <td>-61.575441</td>\n",
       "      <td>73.132000</td>\n",
       "    </tr>\n",
       "    <tr>\n",
       "      <th>1</th>\n",
       "      <td>283</td>\n",
       "      <td>0.349066</td>\n",
       "      <td>-3.498908</td>\n",
       "      <td>-55.604616</td>\n",
       "      <td>77.301434</td>\n",
       "    </tr>\n",
       "    <tr>\n",
       "      <th>2</th>\n",
       "      <td>283</td>\n",
       "      <td>0.523599</td>\n",
       "      <td>-7.080154</td>\n",
       "      <td>-50.550803</td>\n",
       "      <td>79.951448</td>\n",
       "    </tr>\n",
       "    <tr>\n",
       "      <th>3</th>\n",
       "      <td>283</td>\n",
       "      <td>0.698132</td>\n",
       "      <td>-11.260451</td>\n",
       "      <td>-47.023393</td>\n",
       "      <td>81.107946</td>\n",
       "    </tr>\n",
       "    <tr>\n",
       "      <th>4</th>\n",
       "      <td>283</td>\n",
       "      <td>0.872665</td>\n",
       "      <td>-15.742648</td>\n",
       "      <td>-45.393825</td>\n",
       "      <td>80.897912</td>\n",
       "    </tr>\n",
       "  </tbody>\n",
       "</table>\n",
       "</div>"
      ],
      "text/plain": [
       "     T     theta        F_T        F_N        F_B\n",
       "0  283  0.174533  -0.959878 -61.575441  73.132000\n",
       "1  283  0.349066  -3.498908 -55.604616  77.301434\n",
       "2  283  0.523599  -7.080154 -50.550803  79.951448\n",
       "3  283  0.698132 -11.260451 -47.023393  81.107946\n",
       "4  283  0.872665 -15.742648 -45.393825  80.897912"
      ]
     },
     "execution_count": 9,
     "metadata": {},
     "output_type": "execute_result"
    }
   ],
   "source": [
    "rk_df = pd.DataFrame(res_list)\n",
    "rk_df.shape\n",
    "rk_df.head()"
   ]
  },
  {
   "cell_type": "code",
   "execution_count": 10,
   "metadata": {},
   "outputs": [
    {
     "name": "stdout",
     "output_type": "stream",
     "text": [
      "The excel is successfully written!\n"
     ]
    }
   ],
   "source": [
    "# Get the results of ft, fn and fb.\n",
    "write_excel(rk_df, file1)"
   ]
  },
  {
   "cell_type": "markdown",
   "metadata": {},
   "source": [
    "## Test RK"
   ]
  },
  {
   "cell_type": "markdown",
   "metadata": {},
   "source": [
    "### Single Equation "
   ]
  },
  {
   "cell_type": "code",
   "execution_count": 11,
   "metadata": {},
   "outputs": [],
   "source": [
    "# Define ODE\n",
    "def F_test(s, y):\n",
    "    return -y+1\n",
    "\n",
    "# Define Solve\n",
    "def solve_test(F, y0, s_start, s_end, h):\n",
    "    s = s_start\n",
    "    y = y0\n",
    "    while s < s_end:\n",
    "        y = y\n",
    "        y = RK4(F, s, y, h)\n",
    "        y = y\n",
    "        s += h\n",
    "    return y"
   ]
  },
  {
   "cell_type": "code",
   "execution_count": 12,
   "metadata": {},
   "outputs": [
    {
     "name": "stdout",
     "output_type": "stream",
     "text": [
      "y(0.1) =  0.09516258196403962\n"
     ]
    }
   ],
   "source": [
    "# Solve\n",
    "y0 = 0.0\n",
    "s0 = 0.0\n",
    "\n",
    "s1 = 0.1\n",
    "h = 0.001\n",
    "y1 = solve_test(F_test,y0,s0,s1,h)\n",
    "print(\"y(0.1) = \", y1)"
   ]
  },
  {
   "cell_type": "markdown",
   "metadata": {},
   "source": [
    "### Equation Set"
   ]
  },
  {
   "cell_type": "code",
   "execution_count": 13,
   "metadata": {},
   "outputs": [],
   "source": [
    "# Define ODE\n",
    "def F_test_2(s, y):\n",
    "    u,v = y\n",
    "    duds = u + 2*v\n",
    "    dvds = 3*u + 2*v\n",
    "    return [duds, dvds]\n",
    "    \n",
    "# Define Solve\n",
    "def solve_test_2(F, u0, v0, s_start, s_end, h):\n",
    "    s = s_start\n",
    "    u = u0\n",
    "    v = v0\n",
    "    while s < s_end:\n",
    "        y = [u, v]\n",
    "        y = RK4(F, s, y, h)\n",
    "        u, v = y\n",
    "        s += h\n",
    "    return u, v"
   ]
  },
  {
   "cell_type": "code",
   "execution_count": 14,
   "metadata": {},
   "outputs": [
    {
     "name": "stdout",
     "output_type": "stream",
     "text": [
      "u(0.2) =  10.539625073201622\n",
      "v(0.2) =  11.715783844343727\n"
     ]
    }
   ],
   "source": [
    "# Solve\n",
    "u0 = 6\n",
    "v0 = 4\n",
    "s0 = 0\n",
    "\n",
    "s1 = 0.2\n",
    "h = 0.01\n",
    "u, v = solve_test_2(F_test_2, u0, v0, s0, s1, h)\n",
    "print(\"u(0.2) = \", u)\n",
    "print(\"v(0.2) = \", v)"
   ]
  },
  {
   "cell_type": "markdown",
   "metadata": {},
   "source": [
    "# Calculate COD"
   ]
  },
  {
   "cell_type": "markdown",
   "metadata": {},
   "source": [
    "## Set Constants"
   ]
  },
  {
   "cell_type": "code",
   "execution_count": 15,
   "metadata": {},
   "outputs": [],
   "source": [
    "x0=10e-9\n",
    "n=10e-9 #Δx\n",
    "m=1860e-9 # lambda\n",
    "x = np.arange(x0 - n/2, m - n/2, n)\n",
    "s = len(x)\n",
    "E=9.7e11\n",
    "K=1e6\n",
    "tau=30e6\n",
    "V=0.4\n",
    "R=14e-9 # rc\n",
    "p=1e-11\n",
    "l=1.5e-6 # Undecided yet!"
   ]
  },
  {
   "cell_type": "markdown",
   "metadata": {},
   "source": [
    "## Calculate δ(xi)"
   ]
  },
  {
   "cell_type": "code",
   "execution_count": 16,
   "metadata": {},
   "outputs": [],
   "source": [
    "res_list = []\n",
    "for theta in Theta:\n",
    "    res_dict = {'theta':theta}\n",
    "    \n",
    "    # Set up coefs.\n",
    "    a=4*V*tau*n*cos(theta)/(pi*E*R) # Relevant to theta.\n",
    "    b=8*K*sqrt(1-V)/(E*sqrt(2*pi))\n",
    "    c=4*V*l*tau*cos(theta)/(pi*E*R) # Relevant to theta.\n",
    "    \n",
    "    # Set up matrixs.\n",
    "    Y = np.ndarray(shape=(s, s))\n",
    "    z = np.ndarray(shape=(s,))\n",
    "    U = np.ndarray(shape=(s,))\n",
    "    \n",
    "    # Consider the calculation of δ(xi) as a problem of Yx=z.\n",
    "    # Calculate Y.\n",
    "    for i in range(s):\n",
    "        for j in range(s):\n",
    "            if j != i:\n",
    "                Y[i,j] = a * (2 * np.sqrt(m - x[i]) / np.sqrt(m - x[j]) - np.log((np.sqrt(m - x[i]) + np.sqrt(m - x[j])) / np.abs(np.sqrt(m - x[i]) - np.sqrt(m - x[j]))))\n",
    "            else:\n",
    "                Y[j,j] = 1 - a * (np.log((np.sqrt(m - x[j]) + np.sqrt(m - x[j] - p)) / np.abs(np.sqrt(m - x[j]) - np.sqrt(m - x[j] - p))) - 2)\n",
    "    \n",
    "    # Calculate z.\n",
    "    for i in range(s):\n",
    "        z[i] = b * np.sqrt(m - x[i]) + c * (7 * np.sqrt(m * (m - x[i])) - (m+x[i]) * np.log((np.sqrt(m) + np.sqrt(m - x[i])) / (np.sqrt(m) - np.sqrt(m - x[i]))))\n",
    "    \n",
    "    # Use inverse matrix to solve the linear equations.\n",
    "    z = z.T\n",
    "    D = np.linalg.inv(Y)@z\n",
    "    \n",
    "    # Calculate Kb\n",
    "    W = D.T\n",
    "    F = 0\n",
    "    for i in range(s):\n",
    "        U[i] = W[i]*n/sqrt(m-x[i])\n",
    "        F+=U[i]\n",
    "    Kb=sqrt(2/pi)*V*cos(theta)*tau*(4*sqrt(m)*l-F)/R\n",
    "    res_dict['Kb'] = Kb\n",
    "    res_list.append(res_dict)"
   ]
  },
  {
   "cell_type": "code",
   "execution_count": 17,
   "metadata": {},
   "outputs": [
    {
     "data": {
      "text/html": [
       "<div>\n",
       "<style scoped>\n",
       "    .dataframe tbody tr th:only-of-type {\n",
       "        vertical-align: middle;\n",
       "    }\n",
       "\n",
       "    .dataframe tbody tr th {\n",
       "        vertical-align: top;\n",
       "    }\n",
       "\n",
       "    .dataframe thead th {\n",
       "        text-align: right;\n",
       "    }\n",
       "</style>\n",
       "<table border=\"1\" class=\"dataframe\">\n",
       "  <thead>\n",
       "    <tr style=\"text-align: right;\">\n",
       "      <th></th>\n",
       "      <th>theta</th>\n",
       "      <th>Kb</th>\n",
       "    </tr>\n",
       "  </thead>\n",
       "  <tbody>\n",
       "    <tr>\n",
       "      <th>0</th>\n",
       "      <td>0.174533</td>\n",
       "      <td>5.499491e+06</td>\n",
       "    </tr>\n",
       "    <tr>\n",
       "      <th>1</th>\n",
       "      <td>0.349066</td>\n",
       "      <td>5.247930e+06</td>\n",
       "    </tr>\n",
       "    <tr>\n",
       "      <th>2</th>\n",
       "      <td>0.523599</td>\n",
       "      <td>4.837085e+06</td>\n",
       "    </tr>\n",
       "    <tr>\n",
       "      <th>3</th>\n",
       "      <td>0.698132</td>\n",
       "      <td>4.279334e+06</td>\n",
       "    </tr>\n",
       "    <tr>\n",
       "      <th>4</th>\n",
       "      <td>0.872665</td>\n",
       "      <td>3.591491e+06</td>\n",
       "    </tr>\n",
       "  </tbody>\n",
       "</table>\n",
       "</div>"
      ],
      "text/plain": [
       "      theta            Kb\n",
       "0  0.174533  5.499491e+06\n",
       "1  0.349066  5.247930e+06\n",
       "2  0.523599  4.837085e+06\n",
       "3  0.698132  4.279334e+06\n",
       "4  0.872665  3.591491e+06"
      ]
     },
     "execution_count": 17,
     "metadata": {},
     "output_type": "execute_result"
    }
   ],
   "source": [
    "lu_df = pd.DataFrame(res_list)\n",
    "lu_df.shape\n",
    "lu_df.head()"
   ]
  },
  {
   "cell_type": "code",
   "execution_count": 18,
   "metadata": {},
   "outputs": [
    {
     "name": "stdout",
     "output_type": "stream",
     "text": [
      "The excel is successfully written!\n"
     ]
    }
   ],
   "source": [
    "# Get the results of Kb.\n",
    "write_excel(lu_df, file2)"
   ]
  }
 ],
 "metadata": {
  "kernelspec": {
   "display_name": "Python 3",
   "language": "python",
   "name": "python3"
  },
  "language_info": {
   "codemirror_mode": {
    "name": "ipython",
    "version": 3
   },
   "file_extension": ".py",
   "mimetype": "text/x-python",
   "name": "python",
   "nbconvert_exporter": "python",
   "pygments_lexer": "ipython3",
   "version": "3.8.3"
  }
 },
 "nbformat": 4,
 "nbformat_minor": 4
}
