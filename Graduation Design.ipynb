{
 "cells": [
  {
   "cell_type": "markdown",
   "metadata": {},
   "source": [
    "# Import Dependencies"
   ]
  },
  {
   "cell_type": "code",
   "execution_count": 10,
   "metadata": {},
   "outputs": [],
   "source": [
    "import numpy as np\n",
    "from math import *\n",
    "from scipy.integrate import quad\n",
    "from scipy.optimize import root"
   ]
  },
  {
   "cell_type": "markdown",
   "metadata": {},
   "source": [
    "# Fourth-order Runge-Kutta Method\n",
    "## Calculate Constants"
   ]
  },
  {
   "cell_type": "code",
   "execution_count": 2,
   "metadata": {},
   "outputs": [],
   "source": [
    "EPSILON = 0.000001\n",
    "def calculate_kappa(theta, R):\n",
    "     return sin(theta)**2/R\n",
    "\n",
    "def calculate_tau(theta, R):\n",
    "     return sin(theta)*cos(theta)/R\n",
    "\n",
    "def calculate_f_T(r, theta, s):\n",
    "    rou = 1\n",
    "    U0 = 1\n",
    "    v = 1 #?\n",
    "    a0=1\n",
    "    return 2*pi*r*60*rou*U0*cos(theta)**4*(s**10*v/(a0**2+v**2)**6-s**12*v/(a0**2+v**2)**7)"
   ]
  },
  {
   "cell_type": "markdown",
   "metadata": {},
   "source": [
    "## Define RK Method"
   ]
  },
  {
   "cell_type": "code",
   "execution_count": 27,
   "metadata": {},
   "outputs": [],
   "source": [
    "def RK4(F, s, y, h):\n",
    "    k1 = h * np.array(F(s, y))\n",
    "    k2 = h * np.array(F(s + h/2, y + k1/2))\n",
    "    k3 = h * np.array(F(s + h/2, y + k2/2))\n",
    "    k4 = h * np.array(F(s + h, y + k3))\n",
    "    return y + (k1 + 2*k2 + 2*k3 + k4)/6"
   ]
  },
  {
   "cell_type": "markdown",
   "metadata": {},
   "source": [
    "## Define & Solve ODE"
   ]
  },
  {
   "cell_type": "markdown",
   "metadata": {},
   "source": [
    "### Definition"
   ]
  },
  {
   "cell_type": "code",
   "execution_count": 30,
   "metadata": {},
   "outputs": [],
   "source": [
    "# Define ODE\n",
    "def F(s, y):\n",
    "    F_T, F_N, F_B = y\n",
    "    theta = 0\n",
    "    R = 1\n",
    "    r = 1\n",
    "    kappa = calculate_kappa(theta, R)\n",
    "    tau = calculate_tau(theta, R)\n",
    "    f_T = calculate_f_T(r, theta, s)\n",
    "    f_N = 0.0\n",
    "    f_B = 0.0\n",
    "    dF_Tds = F_N * kappa - f_T\n",
    "    dF_Nds = F_B * tau - F_T * kappa - f_N\n",
    "    dF_Bds = -F_N * tau - f_B\n",
    "    return [dF_Tds, dF_Nds, dF_Bds]"
   ]
  },
  {
   "cell_type": "code",
   "execution_count": 31,
   "metadata": {},
   "outputs": [],
   "source": [
    "# Define Solve\n",
    "def solve(F, F_T0, F_N0, F_B0, s_start, s_end, h):\n",
    "    s = s_start\n",
    "    F_T = F_T0\n",
    "    F_N = F_N0\n",
    "    F_B = F_B0\n",
    "    while s < s_end:\n",
    "        y = [F_T, F_N, F_B]\n",
    "        y = RK4(F, s, y, h)\n",
    "        F_T, F_N, F_B = y\n",
    "        s += h\n",
    "    return F_T, F_N, F_B"
   ]
  },
  {
   "cell_type": "markdown",
   "metadata": {},
   "source": [
    "### Solve"
   ]
  },
  {
   "cell_type": "code",
   "execution_count": 32,
   "metadata": {},
   "outputs": [],
   "source": [
    "#Solve\n",
    "theta = 0\n",
    "R = 1\n",
    "F_T0 = 0\n",
    "F_N0 = 0\n",
    "F_B0 = 0\n",
    "s_start = 0.0\n",
    "s_end = 1.0\n",
    "h = 0.01"
   ]
  },
  {
   "cell_type": "code",
   "execution_count": 33,
   "metadata": {},
   "outputs": [
    {
     "name": "stdout",
     "output_type": "stream",
     "text": [
      "F_T(s_end) = -0.3089415864807307\n",
      "F_N(s_end) = 0.0\n",
      "F_B(s_end) = 0.0\n"
     ]
    }
   ],
   "source": [
    "F_T, F_N, F_B = solve(F, F_T0, F_N0, F_B0, s_start, s_end, h)\n",
    "print(\"F_T(s_end) =\", F_T)\n",
    "print(\"F_N(s_end) =\", F_N)\n",
    "print(\"F_B(s_end) =\", F_B)"
   ]
  },
  {
   "cell_type": "markdown",
   "metadata": {},
   "source": [
    "## Test RK"
   ]
  },
  {
   "cell_type": "markdown",
   "metadata": {},
   "source": [
    "### Single Equation "
   ]
  },
  {
   "cell_type": "code",
   "execution_count": 37,
   "metadata": {},
   "outputs": [],
   "source": [
    "# Define ODE\n",
    "def F_test(s, y):\n",
    "    return -y+1\n",
    "\n",
    "# Define Solve\n",
    "def solve_test(F, y0, s_start, s_end, h):\n",
    "    s = s_start\n",
    "    y = y0\n",
    "    while s < s_end:\n",
    "        y = y\n",
    "        y = RK4(F, s, y, h)\n",
    "        y = y\n",
    "        s += h\n",
    "    return y"
   ]
  },
  {
   "cell_type": "code",
   "execution_count": 40,
   "metadata": {},
   "outputs": [
    {
     "name": "stdout",
     "output_type": "stream",
     "text": [
      "y(0.1) =  0.09516258196403962\n"
     ]
    }
   ],
   "source": [
    "# Solve\n",
    "y0 = 0.0\n",
    "s0 = 0.0\n",
    "\n",
    "s1 = 0.1\n",
    "h = 0.001\n",
    "y1 = solve_test(F_test,y0,s0,s1,h)\n",
    "print(\"y(0.1) = \", y1)"
   ]
  },
  {
   "cell_type": "markdown",
   "metadata": {},
   "source": [
    "### Equation Set"
   ]
  },
  {
   "cell_type": "code",
   "execution_count": 45,
   "metadata": {},
   "outputs": [],
   "source": [
    "# Define ODE\n",
    "def F_test_2(s, y):\n",
    "    u,v = y\n",
    "    duds = u + 2*v\n",
    "    dvds = 3*u + 2*v\n",
    "    return [duds, dvds]\n",
    "    \n",
    "# Define Solve\n",
    "def solve_test_2(F, u0, v0, s_start, s_end, h):\n",
    "    s = s_start\n",
    "    u = u0\n",
    "    v = v0\n",
    "    while s < s_end:\n",
    "        y = [u, v]\n",
    "        y = RK4(F, s, y, h)\n",
    "        u, v = y\n",
    "        s += h\n",
    "    return u, v"
   ]
  },
  {
   "cell_type": "code",
   "execution_count": 47,
   "metadata": {},
   "outputs": [
    {
     "name": "stdout",
     "output_type": "stream",
     "text": [
      "u(0.2) =  10.539625073201622\n",
      "v(0.2) =  11.715783844343727\n"
     ]
    }
   ],
   "source": [
    "# Solve\n",
    "u0 = 6\n",
    "v0 = 4\n",
    "s0 = 0\n",
    "\n",
    "s1 = 0.2\n",
    "h = 0.01\n",
    "u, v = solve_test_2(F_test_2, u0, v0, s0, s1, h)\n",
    "print(\"u(0.2) = \", u)\n",
    "print(\"v(0.2) = \", v)"
   ]
  },
  {
   "cell_type": "markdown",
   "metadata": {},
   "source": [
    "# Calculate COD"
   ]
  },
  {
   "cell_type": "markdown",
   "metadata": {},
   "source": [
    "## Set Constants"
   ]
  },
  {
   "cell_type": "code",
   "execution_count": 46,
   "metadata": {},
   "outputs": [],
   "source": [
    "x0=10e-9\n",
    "n=10e-9\n",
    "m=1860e-9\n",
    "s=min(int(m/n),x.shape[0])\n",
    "x = np.arange(x0 - n/2, m - n/2, n)\n",
    "E=13.5e9\n",
    "K=1e6\n",
    "t=30e6\n",
    "V=0.4\n",
    "R=14e-9\n",
    "a=(8*V*t*n)/(pi*E*R)\n",
    "p=1e-11\n",
    "l=1.5e-6\n",
    "b=8*K/(E*sqrt(2*pi))\n",
    "c=4*V*l*t/(pi*E*R)"
   ]
  },
  {
   "cell_type": "markdown",
   "metadata": {},
   "source": [
    "## Calculate δ(xi)"
   ]
  },
  {
   "cell_type": "code",
   "execution_count": 47,
   "metadata": {},
   "outputs": [
    {
     "name": "stdout",
     "output_type": "stream",
     "text": [
      "The shape of Y is (185, 185)\n",
      "The shape of z is (185,)\n"
     ]
    }
   ],
   "source": [
    "# Set up matrixs.\n",
    "Y = np.ndarray(shape=(s, s))\n",
    "z = np.ndarray(shape=(s,))\n",
    "U = np.ndarray(shape=(s,))\n",
    "\n",
    "# Consider the calculation of δ(xi) as a problem of Yx=z.\n",
    "# Calculate Y.\n",
    "for i in range(s):\n",
    "    for j in range(s):\n",
    "        if j != i:\n",
    "            Y[i,j] = a * (2 * np.sqrt(m - x[i]) / np.sqrt(m - x[j]) - np.log((np.sqrt(m - x[i]) + np.sqrt(m - x[j])) / np.abs(np.sqrt(m - x[i]) - np.sqrt(m - x[j]))))\n",
    "        else:\n",
    "            Y[j,j] = 1 - a * (np.log((np.sqrt(m - x[j]) + np.sqrt(m - x[j] - p)) / np.abs(np.sqrt(m - x[j]) - np.sqrt(m - x[j] - p))) - 2)\n",
    "\n",
    "# Calculate z.\n",
    "for i in range(s):\n",
    "    z[i] = b * np.sqrt(m - x[i]) + c * (2 * np.sqrt(m * (m - x[i])) - x[i] * np.log((np.sqrt(m) + np.sqrt(m - x[i])) / (np.sqrt(m) - np.sqrt(m - x[i]))))\n",
    "\n",
    "print(f'The shape of Y is {Y.shape}\\nThe shape of z is {z.shape}')"
   ]
  },
  {
   "cell_type": "code",
   "execution_count": 48,
   "metadata": {},
   "outputs": [
    {
     "name": "stdout",
     "output_type": "stream",
     "text": [
      "D represents δ(xi), with a shape of (185,)\n"
     ]
    }
   ],
   "source": [
    "# Use inverse matrix to solve the linear equations.\n",
    "z = z.T\n",
    "D = np.linalg.inv(y)@z\n",
    "\n",
    "print(f'D represents δ(xi), with a shape of {D.shape}')"
   ]
  },
  {
   "cell_type": "code",
   "execution_count": 50,
   "metadata": {},
   "outputs": [
    {
     "name": "stdout",
     "output_type": "stream",
     "text": [
      "Q is the toughening ratio, with a value of 1.7316622288288919\n"
     ]
    }
   ],
   "source": [
    "W = D.T\n",
    "F = 0\n",
    "for i in range(s):\n",
    "    U[i] = W[i]*n/sqrt(m-x[i])\n",
    "    F+=U[i]\n",
    "Q=2*sqrt(2/pi)*V*t*(sqrt(m)*l-F)/(R*K)\n",
    "print(f'Q is the toughening ratio, with a value of {Q}')"
   ]
  }
 ],
 "metadata": {
  "kernelspec": {
   "display_name": "Python 3",
   "language": "python",
   "name": "python3"
  },
  "language_info": {
   "codemirror_mode": {
    "name": "ipython",
    "version": 3
   },
   "file_extension": ".py",
   "mimetype": "text/x-python",
   "name": "python",
   "nbconvert_exporter": "python",
   "pygments_lexer": "ipython3",
   "version": "3.8.3"
  }
 },
 "nbformat": 4,
 "nbformat_minor": 4
}
